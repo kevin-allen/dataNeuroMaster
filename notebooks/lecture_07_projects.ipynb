{
 "cells": [
  {
   "cell_type": "markdown",
   "metadata": {},
   "source": [
    "# Lecture 7, Data science in Neuroscience\n"
   ]
  },
  {
   "cell_type": "markdown",
   "metadata": {},
   "source": [
    "## Overview of 3 short data analysis projects\n",
    "\n",
    "We will have a Zoom meeting in which the projects will be presented. Your presentation should last between 5 and 10 minutes. You should show us how you completed your project with code and results (figures or videos).\n",
    "\n",
    "Each student can pick one of the 3 following projects. \n",
    "\n",
    "You can also decide to work on a different project, but inform Kevin in advance to make sure the project is suitable."
   ]
  },
  {
   "cell_type": "markdown",
   "metadata": {},
   "source": [
    "***\n",
    "### Project 1, Spike clustering\n",
    "\n",
    "In lecture 3, we applied a K-means clustering algorithm to our spike waveform. Was this the best choice of clustering algorithm for this problem?\n",
    "\n",
    "In a jupyter notebook, compare k-means clustering with at least 3 other clustering techniques available in [Scikit-learn](https://scikit-learn.org/stable/modules/clustering.html#clustering). \n",
    "\n",
    "Use the same waveforms as we did in lecture 3 (data from the file https://github.com/kevin-allen/dataNeuroMaster/blob/main/data/longRaw.npy).\n",
    "\n",
    "For each of 4 clustering technique (k-means and 3 other techniques):\n",
    "\n",
    "1. Describe briefly how the algorhithm works\n",
    "2. List some advantages and disadvantages of this clustering technique\n",
    "3. Apply the techniques to your waveforms\n",
    "4. Display the results\n",
    "\n",
    "As a conclusion, and based on what you learned, choose which clustering technique you think is the best for clustering our spike waveforms and provide a justification for your choice."
   ]
  },
  {
   "cell_type": "markdown",
   "metadata": {},
   "source": [
    "***\n",
    "### Project 2, Deeplabcut\n",
    "\n",
    "In Project 2, you will use deeplabcut to track the position of a mouse in an experiment. Two short videos are available in the `deeplabcut/project_videos` directory of the course repository. \n",
    "\n",
    "You will first train your network using `mouse_video_01.mp4`. You should label approximagely 100-200 frames in order to have relatively good tracking. \n",
    "\n",
    "You can track 4 body parts:\n",
    "\n",
    "* nose (snout)\n",
    "* earL\n",
    "* earR\n",
    "* tail\n",
    "\n",
    "The list of body parts and the number of frames to pick are set in the `config.yaml` file of your project.\n",
    "\n",
    "You can use google colab to train your network on their GPUs.\n",
    "\n",
    "Once your network is trained, you should evaluate you network on the train and test datasets and report the error for both datasets during your presentation.\n",
    "\n",
    "In addition, track the mouse position in `mouse_video_02.mp4` and create a labelled video from `mouse_video_02.mp4`.\n",
    "\n",
    "For your presentation, briefly describe how you performed these steps (project creation, labelling frames, training network, network evaluation (what was the error on training and test sets), tracking on `video_02`). Show us your labelled video from `video_02`. Is the tracking good for all types of behavior or are there conditions in which the tracking should be improved?"
   ]
  },
  {
   "cell_type": "markdown",
   "metadata": {},
   "source": [
    "***\n",
    "### Project 3, Head-direction cell\n",
    "\n",
    "In lecture 6, we generated the firing rate map of a grid cell. In project 3, your task is to apply similar techniques to calculate the tuning curve of a head-direction cell. The tuning curve is the firing rate of the neuron as a function of the head direction of the animal. \n",
    "\n",
    "You can find the raw data in the file `../data/headDirectionCellData.pickle`. The structure of the data is similar to that of the grid cell data.\n",
    "\n",
    "In contrast with the position data we used in Lecture 6 which were 2D (x and y), the head-direction data are in 1D. \n",
    "\n",
    "The head-direction data are in radians and range from -pi to pi. This head-direction data are circular, meaning that -pi is also pi.\n",
    "\n",
    "You will need to perform the following steps\n",
    "\n",
    "1. Create a 1D occupancy histogram containing the time in seconds as a function of head direction.\n",
    "2. Find the head-direction of the animal associated with each spike.\n",
    "    You will need to decompose HD into cos(HD) and sin(HD)\n",
    "3. Create a 1D spike count histogram containing the number of spikes as a function of head direction.\n",
    "4. Calculate the firing rate as a function of head direction.\n",
    "5. Try to apply smoothing to your firing rate histogram. You can use the function scipy.ndimage.gaussian_filter1d(). Pay attention to the `mode` parameter of the gaussian_filter1d() function. What is the best `mode` given that you are using circular data (head-direction)?"
   ]
  },
  {
   "cell_type": "code",
   "execution_count": null,
   "metadata": {},
   "outputs": [],
   "source": []
  }
 ],
 "metadata": {
  "kernelspec": {
   "display_name": "Python 3",
   "language": "python",
   "name": "python3"
  },
  "language_info": {
   "codemirror_mode": {
    "name": "ipython",
    "version": 3
   },
   "file_extension": ".py",
   "mimetype": "text/x-python",
   "name": "python",
   "nbconvert_exporter": "python",
   "pygments_lexer": "ipython3",
   "version": "3.7.4"
  }
 },
 "nbformat": 4,
 "nbformat_minor": 4
}
