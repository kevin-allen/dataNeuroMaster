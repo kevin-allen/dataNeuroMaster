{
 "cells": [
  {
   "cell_type": "markdown",
   "metadata": {},
   "source": [
    "# Data science in Neuroscience\n",
    "\n",
    "\n",
    "## Today's plan\n",
    "\n",
    "1. Overview of the course\n",
    "2. Assessment of previous experience\n",
    "3. Data science landscape\n",
    "4. Introduction to Python\n",
    "5. Numpy, and Matplotlib\n",
    "6. Load and inspect some data\n"
   ]
  },
  {
   "cell_type": "markdown",
   "metadata": {},
   "source": [
    "## What is data science?\n",
    "\n",
    "Turn raw data into understanding, insight and knowledge."
   ]
  },
  {
   "cell_type": "markdown",
   "metadata": {},
   "source": [
    "![dataScience](../images/data-science.png)\n",
    "\n",
    "Image from R for Data science (Wickham and Grolemund)"
   ]
  },
  {
   "cell_type": "markdown",
   "metadata": {},
   "source": [
    "## Course objectives"
   ]
  },
  {
   "cell_type": "markdown",
   "metadata": {},
   "source": [
    "1. Identify the principal tools available in data science (focus on tools for Python)\n",
    "2. Use Jupiter notebook to mix code, figures, and text.\n",
    "3. Learn how to use Pandas DataFrames and NumPy arrays.\n",
    "4. Visualize your data using Matplotlib.\n",
    "5. Understand what machine learning is and identify its principal advantages and challenges.\n",
    "6. Apply a machine-learning algorithm to test a hypothesis in neuroscience.\n",
    "7. Train a deep neural network [deeplabcut](https://github.com/DeepLabCut/DeepLabCut) to track an animal in a video."
   ]
  },
  {
   "cell_type": "markdown",
   "metadata": {},
   "source": [
    "## Supporting materials\n",
    "\n",
    "* [DataCamp website](https://app.datacamp.com/learn)\n",
    "* [Python for Data Analysis (book)](https://www.oreilly.com/library/view/python-for-data/9781491957653/)\n",
    "\n",
    "More to be shared along the way.\n"
   ]
  },
  {
   "cell_type": "markdown",
   "metadata": {},
   "source": [
    "## Course online repository\n",
    "\n",
    "The content of the course is in a GitHub repository.\n",
    "\n",
    "https://github.com/kevin-allen/dataNeuroMaster\n",
    "\n",
    "\n",
    "The notebooks used in the course will be available just before the lecture."
   ]
  },
  {
   "cell_type": "markdown",
   "metadata": {},
   "source": [
    "## Lecture format\n",
    "\n",
    "1. Short introduction of the main topic\n",
    "2. Exercises\n",
    "3. Review of exercises\n",
    "4. Exercises/readings/videos between lectures to consolidate new skills\n",
    "\n",
    "Feel free to interrupt me with your questions as often as you like."
   ]
  },
  {
   "cell_type": "markdown",
   "metadata": {},
   "source": [
    "## Small projects\n",
    "\n",
    "1. Extract action potentials from raw electrophysiological recordings.\n",
    "2. Track the position of an object (mouse, hand, etc) in a video.\n",
    "3. Classify neurons based on their properties.\n",
    "\n",
    "***"
   ]
  },
  {
   "cell_type": "markdown",
   "metadata": {},
   "source": [
    "## Previous experience\n",
    "\n",
    "A short survey of the classroom.\n",
    "\n",
    "https://forms.gle/jxyHUGFPbS55UM3n7\n",
    "\n",
    "***"
   ]
  },
  {
   "cell_type": "markdown",
   "metadata": {},
   "source": [
    "## Data science landscape\n",
    "\n",
    "### Matlab\n",
    "\n",
    "#### Pros\n",
    "* Stable environment\n",
    "* Good signal processing toolbox\n",
    "* Matrix operations\n",
    "\n",
    "#### Cons\n",
    "* Proprietary programming language\n",
    "* Expensive\n",
    "* Some people might not be able to run your code \n",
    "\n",
    "### R\n",
    "\n",
    "#### Pros\n",
    "* Open-source language\n",
    "* Great for traditional statistical analysis and tabular data\n",
    "\n",
    "#### Cons\n",
    "* Not very popular in Neuroscience\n",
    "* Lacking tools for image and signal processing\n",
    "\n",
    "### Python\n",
    "\n",
    "#### Pros\n",
    "* Open-source language\n",
    "* Very popular in neuroscience\n",
    "* Great for signal processing or image processing\n",
    "* Best machine learning toolboxes. \n",
    "\n",
    "#### Cons\n",
    "* Conflicts between different version of packages!\n",
    "* Virtual environments might be confusing at first\n",
    "\n",
    "***"
   ]
  },
  {
   "cell_type": "markdown",
   "metadata": {},
   "source": [
    "## Introduction to Python\n",
    "\n",
    "We can run python code directly in this notebook and we can display results of calculations."
   ]
  },
  {
   "cell_type": "code",
   "execution_count": 2,
   "metadata": {},
   "outputs": [
    {
     "data": {
      "text/plain": [
       "8"
      ]
     },
     "execution_count": 2,
     "metadata": {},
     "output_type": "execute_result"
    }
   ],
   "source": [
    "4+4"
   ]
  },
  {
   "cell_type": "markdown",
   "metadata": {},
   "source": [
    "You can create variables when you need them."
   ]
  },
  {
   "cell_type": "code",
   "execution_count": 3,
   "metadata": {},
   "outputs": [
    {
     "data": {
      "text/plain": [
       "64"
      ]
     },
     "execution_count": 3,
     "metadata": {},
     "output_type": "execute_result"
    }
   ],
   "source": [
    "myVar = 8\n",
    "myVar*myVar"
   ]
  },
  {
   "cell_type": "markdown",
   "metadata": {},
   "source": [
    "## Built-in types"
   ]
  },
  {
   "cell_type": "markdown",
   "metadata": {},
   "source": [
    "Scalars (single value) that are part of the Python language. You can use `type()` to know the type of these objects"
   ]
  },
  {
   "cell_type": "code",
   "execution_count": 4,
   "metadata": {},
   "outputs": [
    {
     "data": {
      "text/plain": [
       "(NoneType, str, int, float, bool)"
      ]
     },
     "execution_count": 4,
     "metadata": {},
     "output_type": "execute_result"
    }
   ],
   "source": [
    "myVar = None \n",
    "myString = \"Hey you\"\n",
    "myNumberInt = 2\n",
    "myNumberFloat =2.4\n",
    "myBool = True\n",
    "\n",
    "type(myVar),type(myString),type(myNumberInt),type(myNumberFloat),type(myBool)"
   ]
  },
  {
   "cell_type": "markdown",
   "metadata": {},
   "source": [
    "## List [...]\n",
    "\n",
    "List are a very important structure in python. "
   ]
  },
  {
   "cell_type": "code",
   "execution_count": 5,
   "metadata": {},
   "outputs": [
    {
     "data": {
      "text/plain": [
       "[1, 2, 3, 4, 'a']"
      ]
     },
     "execution_count": 5,
     "metadata": {},
     "output_type": "execute_result"
    }
   ],
   "source": [
    "myList = [1,2,3,4,\"a\"]\n",
    "myList"
   ]
  },
  {
   "cell_type": "markdown",
   "metadata": {},
   "source": [
    "If you want to make sure that this is a list, use `type()`."
   ]
  },
  {
   "cell_type": "code",
   "execution_count": 6,
   "metadata": {},
   "outputs": [
    {
     "data": {
      "text/plain": [
       "list"
      ]
     },
     "execution_count": 6,
     "metadata": {},
     "output_type": "execute_result"
    }
   ],
   "source": [
    "type(myList)"
   ]
  },
  {
   "cell_type": "markdown",
   "metadata": {},
   "source": [
    "Use tab to know what attributes and methods are available for an object."
   ]
  },
  {
   "cell_type": "code",
   "execution_count": 7,
   "metadata": {},
   "outputs": [
    {
     "data": {
      "text/plain": [
       "[1, 2, 3, 4, 'a', 'b']"
      ]
     },
     "execution_count": 7,
     "metadata": {},
     "output_type": "execute_result"
    }
   ],
   "source": [
    "myList.append(\"b\")\n",
    "myList"
   ]
  },
  {
   "cell_type": "markdown",
   "metadata": {},
   "source": [
    "To lean what a method is doing, use online documentation or ?"
   ]
  },
  {
   "cell_type": "code",
   "execution_count": 8,
   "metadata": {},
   "outputs": [
    {
     "data": {
      "text/plain": [
       "\u001b[0;31mSignature:\u001b[0m \u001b[0mlist\u001b[0m\u001b[0;34m.\u001b[0m\u001b[0mappend\u001b[0m\u001b[0;34m(\u001b[0m\u001b[0mself\u001b[0m\u001b[0;34m,\u001b[0m \u001b[0mobject\u001b[0m\u001b[0;34m,\u001b[0m \u001b[0;34m/\u001b[0m\u001b[0;34m)\u001b[0m\u001b[0;34m\u001b[0m\u001b[0;34m\u001b[0m\u001b[0m\n",
       "\u001b[0;31mDocstring:\u001b[0m Append object to the end of the list.\n",
       "\u001b[0;31mType:\u001b[0m      method_descriptor\n"
      ]
     },
     "metadata": {},
     "output_type": "display_data"
    }
   ],
   "source": [
    "#?myList.append\n",
    "??list.append"
   ]
  },
  {
   "cell_type": "markdown",
   "metadata": {},
   "source": [
    "Slice a list to get only part of it"
   ]
  },
  {
   "cell_type": "code",
   "execution_count": 9,
   "metadata": {},
   "outputs": [
    {
     "data": {
      "text/plain": [
       "[1, 2]"
      ]
     },
     "execution_count": 9,
     "metadata": {},
     "output_type": "execute_result"
    }
   ],
   "source": [
    "myList[0:2]"
   ]
  },
  {
   "cell_type": "code",
   "execution_count": 10,
   "metadata": {},
   "outputs": [
    {
     "data": {
      "text/plain": [
       "[1, 2, 3, 4]"
      ]
     },
     "execution_count": 10,
     "metadata": {},
     "output_type": "execute_result"
    }
   ],
   "source": [
    "myList[0:-2]"
   ]
  },
  {
   "cell_type": "markdown",
   "metadata": {},
   "source": [
    "## Tuple (...)\n",
    "\n",
    "A tuple is a group of element. It can't be changed."
   ]
  },
  {
   "cell_type": "code",
   "execution_count": 11,
   "metadata": {},
   "outputs": [],
   "source": [
    "myTupple = (1,2,3,4)"
   ]
  },
  {
   "cell_type": "markdown",
   "metadata": {},
   "source": [
    "## Dictionary {...}\n",
    "\n",
    "A dictionary is a collection of key-value paris"
   ]
  },
  {
   "cell_type": "code",
   "execution_count": 12,
   "metadata": {},
   "outputs": [
    {
     "data": {
      "text/plain": [
       "'Heidelberg'"
      ]
     },
     "execution_count": 12,
     "metadata": {},
     "output_type": "execute_result"
    }
   ],
   "source": [
    "myDictionary = {\"name\": \"Allen\",\n",
    "               \"town\": \"Heidelberg\",\n",
    "               \"year\": 2021}\n",
    "myDictionary[\"town\"]"
   ]
  },
  {
   "cell_type": "code",
   "execution_count": 13,
   "metadata": {},
   "outputs": [
    {
     "data": {
      "text/plain": [
       "{'name': 'Allen', 'town': 'Heidelberg', 'year': 2021, 'Country': 'Germany'}"
      ]
     },
     "execution_count": 13,
     "metadata": {},
     "output_type": "execute_result"
    }
   ],
   "source": [
    "myDictionary[\"Country\"] = \"Germany\"\n",
    "myDictionary"
   ]
  },
  {
   "cell_type": "markdown",
   "metadata": {},
   "source": [
    "## Control flow\n",
    "\n",
    "### if, elif and else"
   ]
  },
  {
   "cell_type": "code",
   "execution_count": 30,
   "metadata": {},
   "outputs": [
    {
     "name": "stdout",
     "output_type": "stream",
     "text": [
      "larger than 0\n"
     ]
    }
   ],
   "source": [
    "var = 10\n",
    "if var > 0:\n",
    "    print(\"larger than 0\")\n",
    "else:\n",
    "    print(\"egal or smaller than 0\")"
   ]
  },
  {
   "cell_type": "markdown",
   "metadata": {},
   "source": [
    "## for loops"
   ]
  },
  {
   "cell_type": "code",
   "execution_count": 35,
   "metadata": {},
   "outputs": [
    {
     "name": "stdout",
     "output_type": "stream",
     "text": [
      "0\n",
      "1\n",
      "2\n",
      "3\n",
      "4\n"
     ]
    }
   ],
   "source": [
    "for i in [0,1,2,3,4]:\n",
    "    print(i)"
   ]
  },
  {
   "cell_type": "code",
   "execution_count": 36,
   "metadata": {},
   "outputs": [
    {
     "name": "stdout",
     "output_type": "stream",
     "text": [
      "0\n",
      "1\n",
      "2\n",
      "3\n",
      "4\n"
     ]
    }
   ],
   "source": [
    "for i in range(5):\n",
    "    print(i)"
   ]
  },
  {
   "cell_type": "code",
   "execution_count": 37,
   "metadata": {},
   "outputs": [
    {
     "name": "stdout",
     "output_type": "stream",
     "text": [
      "0 a\n",
      "1 b\n",
      "2 c\n",
      "3 d\n"
     ]
    }
   ],
   "source": [
    "for i,letter in enumerate([\"a\",\"b\",\"c\",\"d\"]):\n",
    "    print(i,letter)"
   ]
  },
  {
   "cell_type": "markdown",
   "metadata": {},
   "source": [
    "# Introduction to NumPy\n",
    "\n",
    "![NumPy](../images/NumPy.png)\n",
    "\n",
    "[https://numpy.org/](https://numpy.org/)\n",
    "\n",
    "* N-dimensions arrays \n",
    "* Many math functions\n",
    "* Written in C (very fast)\n",
    "\n",
    "Many statistical or machine learning packages use NumPy arrays. NumPy is essential for data analysis in Python.\n",
    "\n",
    "For a more complete introduction: \n",
    "* [https://numpy.org/devdocs/user/quickstart.html](https://numpy.org/devdocs/user/quickstart.html)\n",
    "* [https://numpy.org/doc/stable/user/absolute_beginners.html](https://numpy.org/doc/stable/user/absolute_beginners.html)\n",
    "\n",
    "Since it is not part of Python, you need to import the NumPy package before using it."
   ]
  },
  {
   "cell_type": "code",
   "execution_count": 38,
   "metadata": {},
   "outputs": [],
   "source": [
    "import numpy as np"
   ]
  },
  {
   "cell_type": "markdown",
   "metadata": {},
   "source": [
    "### NumPy Arrays\n",
    "\n",
    "Create a 1D NumPy array with `np.array()`"
   ]
  },
  {
   "cell_type": "code",
   "execution_count": 40,
   "metadata": {},
   "outputs": [
    {
     "name": "stdout",
     "output_type": "stream",
     "text": [
      "[1 2 3 4]\n",
      "<class 'numpy.ndarray'>\n"
     ]
    }
   ],
   "source": [
    "a = np.array([1,2,3,4])\n",
    "print(a)\n",
    "print(type(a))"
   ]
  },
  {
   "cell_type": "markdown",
   "metadata": {},
   "source": [
    "You can create arrays filled with 0s, 1s, or with a sequence of numbers."
   ]
  },
  {
   "cell_type": "code",
   "execution_count": 42,
   "metadata": {},
   "outputs": [
    {
     "name": "stdout",
     "output_type": "stream",
     "text": [
      "[0. 0. 0. 0.]\n",
      "[1. 1. 1. 1.]\n",
      "[0 1 2 3]\n"
     ]
    }
   ],
   "source": [
    "b = np.zeros(4)\n",
    "print(b)\n",
    "c = np.ones(4)\n",
    "print(c)\n",
    "d = np.arange(4) # sequence\n",
    "print(d)"
   ]
  },
  {
   "cell_type": "markdown",
   "metadata": {},
   "source": [
    "You can do math operations with these arrays. "
   ]
  },
  {
   "cell_type": "code",
   "execution_count": 43,
   "metadata": {},
   "outputs": [
    {
     "name": "stdout",
     "output_type": "stream",
     "text": [
      "[1 2 3 4]\n",
      "[2 3 4 5]\n",
      "[1 3 5 7]\n",
      "[ 1  4  9 16]\n"
     ]
    }
   ],
   "source": [
    "print(a)\n",
    "print(a+1)\n",
    "print(a+d)\n",
    "print(a**2)"
   ]
  },
  {
   "cell_type": "markdown",
   "metadata": {},
   "source": [
    "You will often need to inspect the properties of an array to know what you are working with."
   ]
  },
  {
   "cell_type": "code",
   "execution_count": 46,
   "metadata": {},
   "outputs": [
    {
     "name": "stdout",
     "output_type": "stream",
     "text": [
      "[1 2 3 4]\n",
      "type: <class 'numpy.ndarray'>\n",
      "ndim: 1\n",
      "shape: (4,)\n",
      "size: 4\n",
      "dtype: int64\n"
     ]
    }
   ],
   "source": [
    "print(a)\n",
    "print(\"type:\",type(a))\n",
    "print(\"ndim:\",a.ndim)\n",
    "print(\"shape:\",a.shape)\n",
    "print(\"size:\",a.size)\n",
    "print(\"dtype:\",a.dtype)"
   ]
  },
  {
   "cell_type": "markdown",
   "metadata": {},
   "source": [
    "### 2D arrays\n",
    "\n",
    "2D arrays have rows and columns. You can think of them as an images."
   ]
  },
  {
   "cell_type": "code",
   "execution_count": 52,
   "metadata": {},
   "outputs": [
    {
     "name": "stdout",
     "output_type": "stream",
     "text": [
      "ndim: 2\n",
      "shape: (2, 2)\n",
      "[[1 2]\n",
      " [3 4]]\n"
     ]
    }
   ],
   "source": [
    "e = np.array([[1,2],[3,4]])\n",
    "print(\"ndim:\", e.ndim)\n",
    "print(\"shape:\",e.shape)\n",
    "print(e)"
   ]
  },
  {
   "cell_type": "code",
   "execution_count": 53,
   "metadata": {},
   "outputs": [
    {
     "name": "stdout",
     "output_type": "stream",
     "text": [
      "[ 0  1  2  3  4  5  6  7  8  9 10 11 12 13 14 15 16 17 18 19 20 21 22 23]\n",
      "[[ 0  1  2  3]\n",
      " [ 4  5  6  7]\n",
      " [ 8  9 10 11]\n",
      " [12 13 14 15]\n",
      " [16 17 18 19]\n",
      " [20 21 22 23]]\n",
      "(6, 4)\n"
     ]
    }
   ],
   "source": [
    "print(np.arange(24))\n",
    "f = np.arange(24).reshape(6,4) # reshape change the 1D array into a 2D array\n",
    "print(f)\n",
    "print(f.shape)"
   ]
  },
  {
   "cell_type": "markdown",
   "metadata": {},
   "source": [
    "### Slicing an array\n",
    "\n",
    "You will often need to get only a small part of an array. To do so, use `[]`.\n"
   ]
  },
  {
   "cell_type": "code",
   "execution_count": 61,
   "metadata": {},
   "outputs": [
    {
     "name": "stdout",
     "output_type": "stream",
     "text": [
      "[0 1 2 3 4 5 6 7 8 9]\n"
     ]
    },
    {
     "data": {
      "text/plain": [
       "array([0, 1, 2, 3])"
      ]
     },
     "execution_count": 61,
     "metadata": {},
     "output_type": "execute_result"
    }
   ],
   "source": [
    "a = np.arange(10)\n",
    "print(a)\n",
    "a[0:4] # you get the data at position 0 until position 3. You don't get 4."
   ]
  },
  {
   "cell_type": "code",
   "execution_count": 62,
   "metadata": {},
   "outputs": [
    {
     "data": {
      "text/plain": [
       "array([0, 1, 2, 3])"
      ]
     },
     "execution_count": 62,
     "metadata": {},
     "output_type": "execute_result"
    }
   ],
   "source": [
    "a[:4] # you can omit 0"
   ]
  },
  {
   "cell_type": "code",
   "execution_count": 69,
   "metadata": {},
   "outputs": [
    {
     "data": {
      "text/plain": [
       "array([0, 1, 2, 3, 4, 5, 6, 7, 8, 9])"
      ]
     },
     "execution_count": 69,
     "metadata": {},
     "output_type": "execute_result"
    }
   ],
   "source": [
    "a[:] # you can omit start and end to get everything"
   ]
  },
  {
   "cell_type": "code",
   "execution_count": 70,
   "metadata": {},
   "outputs": [
    {
     "data": {
      "text/plain": [
       "array([0, 1, 2, 3, 4, 5, 6, 7, 8])"
      ]
     },
     "execution_count": 70,
     "metadata": {},
     "output_type": "execute_result"
    }
   ],
   "source": [
    "a[:-1] # with -, it starts from the end, -1 remove the last number"
   ]
  },
  {
   "cell_type": "code",
   "execution_count": 71,
   "metadata": {},
   "outputs": [
    {
     "data": {
      "text/plain": [
       "9"
      ]
     },
     "execution_count": 71,
     "metadata": {},
     "output_type": "execute_result"
    }
   ],
   "source": [
    "a[-1] # gives you the last number"
   ]
  },
  {
   "cell_type": "markdown",
   "metadata": {},
   "source": [
    "Slicing also work for 2D or ND arrays.\n",
    "\n",
    "In 2D, the order is `[row,column]`. A comma separates the indices of each dimension."
   ]
  },
  {
   "cell_type": "code",
   "execution_count": 77,
   "metadata": {},
   "outputs": [
    {
     "data": {
      "text/plain": [
       "array([[ 0,  1,  2,  3],\n",
       "       [ 4,  5,  6,  7],\n",
       "       [ 8,  9, 10, 11]])"
      ]
     },
     "execution_count": 77,
     "metadata": {},
     "output_type": "execute_result"
    }
   ],
   "source": [
    "f = np.arange(12).reshape(3,4)\n",
    "f"
   ]
  },
  {
   "cell_type": "code",
   "execution_count": 78,
   "metadata": {},
   "outputs": [
    {
     "data": {
      "text/plain": [
       "array([0, 4, 8])"
      ]
     },
     "execution_count": 78,
     "metadata": {},
     "output_type": "execute_result"
    }
   ],
   "source": [
    "f[:,0] # put a comma between indices of each dimension"
   ]
  },
  {
   "cell_type": "code",
   "execution_count": 79,
   "metadata": {},
   "outputs": [
    {
     "data": {
      "text/plain": [
       "array([[0, 1, 2, 3],\n",
       "       [4, 5, 6, 7]])"
      ]
     },
     "execution_count": 79,
     "metadata": {},
     "output_type": "execute_result"
    }
   ],
   "source": [
    "f[0:2,:]"
   ]
  },
  {
   "cell_type": "markdown",
   "metadata": {},
   "source": [
    "# Introduction to matplotlib\n",
    "\n",
    "![Matplotlib](../images/Matplotlib.png)\n",
    "\n",
    "[https://matplotlib.org/](https://matplotlib.org/)\n",
    "\n",
    "Matplotlib is used to visualize data.\n",
    "\n",
    "__Patterns (or bugs) in the data are often only visible if you plot the data__\n",
    "\n",
    "You need to import it before you can use it."
   ]
  },
  {
   "cell_type": "code",
   "execution_count": 22,
   "metadata": {},
   "outputs": [],
   "source": [
    "import matplotlib.pyplot as plt"
   ]
  },
  {
   "cell_type": "code",
   "execution_count": 80,
   "metadata": {},
   "outputs": [
    {
     "data": {
      "image/png": "[encoded data removed]",
      "text/plain": [
       "<Figure size 432x288 with 1 Axes>"
      ]
     },
     "metadata": {
      "needs_background": "light"
     },
     "output_type": "display_data"
    }
   ],
   "source": [
    "plt.plot(np.arange(12))\n",
    "plt.show()"
   ]
  },
  {
   "cell_type": "markdown",
   "metadata": {},
   "source": [
    "Use `plt.plot()` or `plt.hist()` to plot 1D numpy arrays"
   ]
  },
  {
   "cell_type": "code",
   "execution_count": 82,
   "metadata": {},
   "outputs": [
    {
     "data": {
      "text/plain": [
       "array([ 0.        ,  0.16868118,  0.33252819,  0.48684537,  0.62721022,\n",
       "        0.74960006,  0.85050735,  0.92704023,  0.97700537,  0.99897084,\n",
       "        0.99230713,  0.95720522,  0.89467107,  0.80649684,  0.69520949,\n",
       "        0.56399835,  0.41662377,  0.25730931,  0.0906207 , -0.07866497,\n",
       "       -0.24569621, -0.40568613, -0.55404961, -0.68653478, -0.79934477,\n",
       "       -0.8892466 , -0.9536638 , -0.99075027, -0.99944315, -0.97949332,\n",
       "       -0.93147251, -0.85675694, -0.75748785, -0.63651016, -0.49729094,\n",
       "       -0.34382003, -0.18049569, -0.01199858,  0.15684239,  0.32118847,\n",
       "        0.47632971,  0.61781998,  0.74160434,  0.84413531,  0.92247449,\n",
       "        0.97437677,  0.99835471,  0.99372113,  0.96060882,  0.89996674,\n",
       "        0.81353281,  0.70378411,  0.57386589,  0.42750144,  0.26888536,\n",
       "        0.10256339, -0.06669791, -0.23404774, -0.39469007, -0.54402111])"
      ]
     },
     "execution_count": 82,
     "metadata": {},
     "output_type": "execute_result"
    }
   ],
   "source": [
    "a = np.linspace(start=0,stop=10,num=60)\n",
    "np.sin(a)"
   ]
  },
  {
   "cell_type": "code",
   "execution_count": 83,
   "metadata": {},
   "outputs": [
    {
     "data": {
      "text/plain": [
       "[<matplotlib.lines.Line2D at 0x7f6912705cd0>]"
      ]
     },
     "execution_count": 83,
     "metadata": {},
     "output_type": "execute_result"
    },
    {
     "data": {
      "image/png": "[encoded data removed]",
      "text/plain": [
       "<Figure size 432x288 with 1 Axes>"
      ]
     },
     "metadata": {
      "needs_background": "light"
     },
     "output_type": "display_data"
    }
   ],
   "source": [
    "plt.plot(np.sin(a))"
   ]
  },
  {
   "cell_type": "markdown",
   "metadata": {},
   "source": [
    "__When something is not working, always inspect the NumPy array properties and plot your data!__"
   ]
  },
  {
   "cell_type": "code",
   "execution_count": 84,
   "metadata": {},
   "outputs": [
    {
     "data": {
      "image/png": "[encoded data removed]",
      "text/plain": [
       "<Figure size 432x288 with 1 Axes>"
      ]
     },
     "metadata": {
      "needs_background": "light"
     },
     "output_type": "display_data"
    }
   ],
   "source": [
    "a = np.random.normal(loc = 5, scale = 2.0, size = 20000)\n",
    "plt.hist(a,bins=50)\n",
    "plt.ylabel(\"Observations\")\n",
    "plt.xlabel(\"Values\")\n",
    "plt.show()"
   ]
  },
  {
   "cell_type": "markdown",
   "metadata": {},
   "source": [
    "### Working with real data\n",
    "\n",
    "In neuroscience, data often comes from sensors (e.g. electrodes or image sensors), with repeated measurments taken at a relatively high frequency (sampling rate). \n",
    "\n",
    "To familiarize yourself with this type of data, we will work with extracellular recordings from the pyramidal cell layer of the CA1 region of the hippocampus of a mouse. \n",
    "\n",
    "\n",
    "<div>\n",
    "<img src=\"../images/hippocampus.jpg\" width=\"500\"/><img src=\"../images/Neuronexus_buzsaki_32.png\" width=\"500\"/>\n",
    "</div>\n",
    "\n",
    "\n",
    "<div>\n",
    "\n",
    "</div>\n",
    "\n",
    "#### Recording parameters\n",
    "\n",
    "\n",
    "* Duration: 1 second\n",
    "* Sampling rate: 20000 Hz (20000 times a second)\n",
    "* Number of channels: 8"
   ]
  },
  {
   "cell_type": "markdown",
   "metadata": {},
   "source": [
    "Download the data: https://tinyurl.com/3mx2mvsv\n",
    "\n",
    "The data is saved in the NumPy format (.npy). You can load such a file using `np.load`.\n"
   ]
  },
  {
   "cell_type": "code",
   "execution_count": 95,
   "metadata": {},
   "outputs": [],
   "source": [
    "fileName = \"/home/kevin/Downloads/shortRaw.npy\" #\"/home/kevin/repo/dataNeuroMaster/data/shortRaw.npy\"\n",
    "dat = np.load(fileName)"
   ]
  },
  {
   "cell_type": "markdown",
   "metadata": {},
   "source": [
    "## Inspect the data\n",
    "\n",
    "You just loaded some data. Try to answer these questions about your data\n",
    "\n",
    "* How many dimensions does the data have?\n",
    "* What is the size of the array in each dimension?\n",
    "* What is the data type or dtype (integer, float, etc.) of the `dat` array?\n",
    "* Which dimension represents the recording channels and the recording samples?"
   ]
  },
  {
   "cell_type": "markdown",
   "metadata": {},
   "source": [
    "## Plot the data\n",
    "\n",
    "* Plot the data for the first recording channel. Try to add a label for your x- and y-axis?\n",
    "* Plot the data for 2 recording channels. Are the data on the different channels similar or different?\n"
   ]
  },
  {
   "cell_type": "markdown",
   "metadata": {},
   "source": [
    "## More exercises\n",
    "\n",
    "* What is the mean value in the `dat` array?\n",
    "* What is the mean value per channel of the `dat` array?\n",
    "* Can you plot the mean value across channels for all samples? The plot should have 20000 values.\n",
    "* How could I had 100 to all values in the array?\n",
    "* Which channel has the largest standard deviation?\n"
   ]
  }
 ],
 "metadata": {
  "kernelspec": {
   "display_name": "Python 3",
   "language": "python",
   "name": "python3"
  },
  "language_info": {
   "codemirror_mode": {
    "name": "ipython",
    "version": 3
   },
   "file_extension": ".py",
   "mimetype": "text/x-python",
   "name": "python",
   "nbconvert_exporter": "python",
   "pygments_lexer": "ipython3",
   "version": "3.7.9"
  }
 },
 "nbformat": 4,
 "nbformat_minor": 4
}
