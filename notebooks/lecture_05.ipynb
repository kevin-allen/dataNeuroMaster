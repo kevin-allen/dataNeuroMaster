{
 "cells": [
  {
   "cell_type": "markdown",
   "metadata": {},
   "source": [
    "# Lecture 5, Data science in Neuroscience\n",
    "\n",
    "\n",
    "## Plan for today\n",
    "\n",
    "1. Review key machine learning concepts\n",
    "2. Review of last week's exercise: Using a machine learning approach to find the best parameters for a head-direction cell.\n",
    "3. Introduction to deep neuronal networks\n",
    "4. Pose estimation using Deeplabcut\n",
    "\n",
    "***\n"
   ]
  },
  {
   "cell_type": "markdown",
   "metadata": {},
   "source": [
    "# Machine learning briefly\n",
    "\n",
    "* This gives computer the ability to learn without being explicitely programmed (Arthur Samuel, 1959).\n",
    "\n",
    "## Types\n",
    "\n",
    "* Prediction versus inference\n",
    "* Supervised versus unsupervised\n",
    "* Regression versus classification\n",
    "\n",
    "These concepts are useful to quickly find the right tool (model) for the job.\n",
    "\n",
    "## How do computers learn?\n",
    "\n",
    "Often using an iterative process (i.e. a loop).\n",
    "\n",
    "1. Feed data to your model\n",
    "2. Calculate the error (loss).\n",
    "3. Adjust the model parameters by a small amount to minimize the loss, using gradients.\n",
    "4. Go back to 1 until the gradients are near 0.\n",
    "\n",
    "\n",
    "## Our linear regression model\n",
    "\n",
    "* One of the simplest models.\n",
    "* $Y = wX + b$\n",
    "* $Y$: target\n",
    "* $X$: features (inputs)\n",
    "* $w$ is the slope and $b$ is the intercept.\n",
    "* We found the best parameters ($w$ and $b$) that minimize a loss function.\n",
    "\n"
   ]
  },
  {
   "cell_type": "markdown",
   "metadata": {},
   "source": [
    "***\n",
    "\n",
    "## Back to our exercise at the end o Lecture 4\n",
    "\n",
    "Can you find the best parameters to explain the firing rate of a head direction cell?\n"
   ]
  },
  {
   "cell_type": "markdown",
   "metadata": {},
   "source": [
    "*** \n",
    "## Deep neural networks\n",
    "\n",
    "* Mathematical entities capable of representing complicated functions through a composition of simpler functions.\n",
    "* Deep neural network have **multiple layers** between the input and output layers. \n",
    "* New data comes from the left, and calculations propagates towards the ouput layer.\n",
    "\n",
    "\n",
    "<div>\n",
    "<img src=\"../images/deep-neural-network.png\" width=\"500\"/>\n",
    "</div>\n",
    "\n",
    "\n"
   ]
  },
  {
   "cell_type": "markdown",
   "metadata": {},
   "source": [
    "## Artificial neuron\n",
    "\n",
    "A **neuron** is the building block of the neural network.\n",
    "\n",
    "\n",
    "They do 3 things: \n",
    "* A linear transofrmation of the inputs\n",
    "* Adding a constant \n",
    "* Applying a fixed nonlinear function (activation fucntion)\n",
    "    \n",
    "The input can be a single value or a vector. The output can be a single value or a vector."
   ]
  },
  {
   "cell_type": "markdown",
   "metadata": {},
   "source": [
    "Artificial neurons are not too complicated. We can easily code one to understand how they work."
   ]
  },
  {
   "cell_type": "code",
   "execution_count": 1,
   "metadata": {},
   "outputs": [],
   "source": [
    "def printInputWeightBias(inputData,w,b):\n",
    "    \"\"\"\n",
    "    Function to print the shape and data in inputData, weights and biases\n",
    "    \"\"\"\n",
    "    print(\"************\")\n",
    "    print(\"inputData.shape:\",inputData.shape)\n",
    "    print(\"inputData:\",inputData)\n",
    "    print(\"************\")\n",
    "    print(\"weights.shape:\", w.shape)\n",
    "    print(\"weights:\",w)\n",
    "    print(\"************\")\n",
    "    print(\"bias.shape\", b.shape)\n",
    "    print(\"bias:\",b)"
   ]
  },
  {
   "cell_type": "markdown",
   "metadata": {},
   "source": [
    "We prepare some input data, weights (w) and bias (b)."
   ]
  },
  {
   "cell_type": "code",
   "execution_count": 2,
   "metadata": {},
   "outputs": [
    {
     "name": "stdout",
     "output_type": "stream",
     "text": [
      "************\n",
      "inputData.shape: (1, 15)\n",
      "inputData: [[-1.         -0.85714286 -0.71428571 -0.57142857 -0.42857143 -0.28571429\n",
      "  -0.14285714  0.          0.14285714  0.28571429  0.42857143  0.57142857\n",
      "   0.71428571  0.85714286  1.        ]]\n",
      "************\n",
      "weights.shape: (15, 1)\n",
      "weights: [[ 0.26535208]\n",
      " [ 0.28919833]\n",
      " [-0.05897398]\n",
      " [-0.00632948]\n",
      " [-0.11905716]\n",
      " [ 0.25547774]\n",
      " [-0.23994615]\n",
      " [ 0.48673328]\n",
      " [ 0.41926392]\n",
      " [-0.30670968]\n",
      " [ 0.22970875]\n",
      " [-0.40350481]\n",
      " [-0.29645525]\n",
      " [-0.38741412]\n",
      " [-0.44955527]]\n",
      "************\n",
      "bias.shape (1,)\n",
      "bias: [0.510774]\n"
     ]
    }
   ],
   "source": [
    "import numpy as np\n",
    "import matplotlib.pyplot as plt\n",
    "\n",
    "inputSize=15\n",
    "inputData = np.linspace(-1,1,inputSize).reshape(-1,inputSize) # 1D array as input\n",
    "w = np.random.random(inputSize).reshape(inputSize,-1)-0.5 # numbers weights between -0.5 and 0.5, 1D array matching the size of input\n",
    "b = np.random.random(1) # a bias term \n",
    "\n",
    "printInputWeightBias(inputData,w,b)"
   ]
  },
  {
   "cell_type": "markdown",
   "metadata": {},
   "source": [
    "We can write a simple function to represent the calculation of a neuron. The formula is very similar to a regression model, with the addition of a non-linear function."
   ]
  },
  {
   "cell_type": "code",
   "execution_count": 3,
   "metadata": {},
   "outputs": [],
   "source": [
    "def neuron_function(inputData,w,b):\n",
    "    \"\"\"\n",
    "    Operation performed by a single neuron\n",
    "    \n",
    "    inputData@w is the dot product of 2 matrices.\n",
    "    \"\"\"\n",
    "    return np.tanh(inputData@w + b)"
   ]
  },
  {
   "cell_type": "code",
   "execution_count": 4,
   "metadata": {},
   "outputs": [
    {
     "data": {
      "text/plain": [
       "array([[-0.799655]])"
      ]
     },
     "execution_count": 4,
     "metadata": {},
     "output_type": "execute_result"
    }
   ],
   "source": [
    "neuron_function(inputData,w,b) "
   ]
  },
  {
   "cell_type": "markdown",
   "metadata": {},
   "source": [
    "The main role of the np.tanh function is to add some non-linearity in the network. Instead of having a straight line, we get a s-shaped curve."
   ]
  },
  {
   "cell_type": "code",
   "execution_count": 5,
   "metadata": {},
   "outputs": [
    {
     "data": {
      "image/png": "[encoded data removed]",
      "text/plain": [
       "<Figure size 432x288 with 1 Axes>"
      ]
     },
     "metadata": {
      "needs_background": "light"
     },
     "output_type": "display_data"
    }
   ],
   "source": [
    "inputs = np.linspace(-10,10)\n",
    "plt.plot(inputs,np.tanh(inputs))\n",
    "plt.xlabel(\"input\")\n",
    "plt.ylabel(\"output\")\n",
    "plt.show()"
   ]
  },
  {
   "cell_type": "markdown",
   "metadata": {},
   "source": [
    "A neuron is just  a linear function (like our linear regression model) within a non-linear function (here tanh). The tanh function limits the output from -1 to 1 and adds non-linearity to our model.\n",
    "\n",
    "See [hyperbolic functions](https://en.wikipedia.org/wiki/Hyperbolic_functions)\n",
    "\n",
    "See [relu function](https://en.wikipedia.org/wiki/Rectifier_(neural_networks))"
   ]
  },
  {
   "cell_type": "markdown",
   "metadata": {},
   "source": [
    "## A layer of neurons"
   ]
  },
  {
   "cell_type": "markdown",
   "metadata": {},
   "source": [
    "A layer is just a group of neurons. \n",
    "\n",
    "Each neuron in a layer has its own set of weights and its own bias.\n",
    "\n",
    "The neurons of the layer often have the same inputs, but different weights."
   ]
  },
  {
   "cell_type": "markdown",
   "metadata": {},
   "source": [
    "To code for a layer instead of a single neuron\n",
    "* the 1D weight vector becomes a 2D weight array, one column per neuron\n",
    "* We get one bias term per neuron"
   ]
  },
  {
   "cell_type": "code",
   "execution_count": 6,
   "metadata": {},
   "outputs": [
    {
     "name": "stdout",
     "output_type": "stream",
     "text": [
      "************\n",
      "inputData.shape: (1, 15)\n",
      "inputData: [[-1.         -0.85714286 -0.71428571 -0.57142857 -0.42857143 -0.28571429\n",
      "  -0.14285714  0.          0.14285714  0.28571429  0.42857143  0.57142857\n",
      "   0.71428571  0.85714286  1.        ]]\n",
      "************\n",
      "weights.shape: (15, 4)\n",
      "weights: [[-0.11811761 -0.38353495 -0.08457917  0.08341081]\n",
      " [-0.43382017  0.0767557  -0.19239219 -0.30862975]\n",
      " [ 0.09444411  0.09310522 -0.28945619  0.14487115]\n",
      " [-0.2969779  -0.13741122  0.47473021 -0.40367754]\n",
      " [ 0.10170151 -0.05588464 -0.35817307 -0.02775847]\n",
      " [ 0.14006814  0.23001738  0.33647336 -0.34439344]\n",
      " [-0.44897574 -0.24109715  0.21164353  0.0127347 ]\n",
      " [ 0.23419921  0.07986056  0.10652311  0.16417079]\n",
      " [-0.01556977  0.12272424  0.34636548  0.30229926]\n",
      " [-0.36869062 -0.26857063 -0.4652841  -0.05877852]\n",
      " [-0.26288242  0.25404435  0.29463678  0.32394033]\n",
      " [-0.19798855 -0.46045241 -0.12048272  0.10842069]\n",
      " [ 0.14243167  0.26194524 -0.13801073  0.18050683]\n",
      " [ 0.05454577  0.34004807  0.4703649  -0.45592785]\n",
      " [ 0.08145653 -0.41701019 -0.3527916   0.31586076]]\n",
      "************\n",
      "bias.shape (4,)\n",
      "bias: [1. 1. 1. 1.]\n"
     ]
    }
   ],
   "source": [
    "import numpy as np\n",
    "import matplotlib.pyplot as plt\n",
    "\n",
    "inputSize=15\n",
    "nNeurons = 4\n",
    "inputData = np.linspace(-1,1,inputSize).reshape(-1,inputSize) # 2D array as input\n",
    "w = np.random.random(inputSize*nNeurons).reshape(inputSize,nNeurons)-0.5 # numbers weights between -0.5 and 0.5, 2D array matching\n",
    "b = np.ones(nNeurons) # bias terms, one per neuron\n",
    "\n",
    "printInputWeightBias(inputData,w,b)"
   ]
  },
  {
   "cell_type": "code",
   "execution_count": 7,
   "metadata": {},
   "outputs": [],
   "source": [
    "def neuron_function(inputData,w,b):\n",
    "    \"\"\"\n",
    "    Operation performed by a single neuron.\n",
    "    \n",
    "    The same function also works for an entire layer\n",
    "    \"\"\"\n",
    "    return np.tanh(inputData@w + b)"
   ]
  },
  {
   "cell_type": "code",
   "execution_count": 8,
   "metadata": {},
   "outputs": [
    {
     "name": "stdout",
     "output_type": "stream",
     "text": [
      "Output shape: (1, 4)\n",
      "[[0.89944783 0.82445048 0.81369454 0.93515541]]\n"
     ]
    }
   ],
   "source": [
    "outputs = neuron_function(inputData,w,b)\n",
    "print(\"Output shape:\", outputs.shape)\n",
    "print(outputs)\n"
   ]
  },
  {
   "cell_type": "markdown",
   "metadata": {},
   "source": [
    "## Several layers\n",
    "\n",
    "The output of one layer is passed to the next layer."
   ]
  },
  {
   "cell_type": "code",
   "execution_count": 9,
   "metadata": {},
   "outputs": [
    {
     "name": "stdout",
     "output_type": "stream",
     "text": [
      "Input\n",
      "[[-1.         -0.85714286 -0.71428571 -0.57142857 -0.42857143 -0.28571429\n",
      "  -0.14285714  0.          0.14285714  0.28571429  0.42857143  0.57142857\n",
      "   0.71428571  0.85714286  1.        ]]\n",
      "Output layer 1\n",
      "[[ 0.88824893  0.53471225  0.02498445  0.91299706 -0.20862436  0.95773188\n",
      "   0.83293508  0.30693525  0.69290208  0.98672235  0.53536524  0.26701874\n",
      "   0.95685515  0.82267501  0.89263865]]\n",
      "Output layer 2\n",
      "[[-0.3830017  -0.44873196  0.77578687  0.30493285  0.53473583  0.57911731\n",
      "   0.53523637  0.64436226  0.2243693   0.39241811  0.95707034  0.98630291\n",
      "   0.10187941  0.53164299  0.0255666 ]]\n"
     ]
    }
   ],
   "source": [
    "inputSize=15\n",
    "nNeurons=15 \n",
    "\n",
    "inputData = np.linspace(-1,1,inputSize).reshape(-1,inputSize) # 1D array as input\n",
    "\n",
    "# layer 1 of 15 neurons\n",
    "w_1 = np.random.random(inputSize*nNeurons).reshape(inputSize,nNeurons)-0.5 # numbers weights between 0 and 1, 1D array matching the size of input\n",
    "b_1 = np.ones(nNeurons) # a bias term \n",
    "\n",
    "# layer 2 of 15 neurons\n",
    "w_2 = np.random.random(inputSize*nNeurons).reshape(inputSize,nNeurons)-0.5 # numbers weights between 0 and 1, 1D array matching the size of input\n",
    "b_2 = np.ones(nNeurons) # a bias term \n",
    "\n",
    "print(\"Input\")\n",
    "print(inputData)\n",
    "output_layer1 = neuron_function(inputData,w_1,b_1) # takes inputData as input\n",
    "print(\"Output layer 1\")\n",
    "print(output_layer1)\n",
    "output_layer2 = neuron_function(output_layer1,w_2,b_2) #takes output_layer1 as input\n",
    "print(\"Output layer 2\")\n",
    "print(output_layer2)"
   ]
  },
  {
   "cell_type": "markdown",
   "metadata": {},
   "source": [
    "We just wrote the code to generate a 2-layer deep neural network.\n",
    "\n",
    "If you want to build deep neural network, I recommend using a [pytorch](https://pytorch.org/) or [tensorflow](https://www.tensorflow.org/).\n",
    "\n",
    "A good book covering pytorch is [Deep Learning with PyTorch](https://www.manning.com/books/deep-learning-with-pytorch) from Eli Stevens, Luca Antiga and Thomas Viehmann"
   ]
  },
  {
   "cell_type": "markdown",
   "metadata": {},
   "source": [
    "## Convolutional neural networks (CNN)\n",
    "\n",
    "Bate back to 1989 (Yann LeCun). They are great at detecting objects and classifying images. \n",
    "\n",
    "\n",
    "\n",
    "<div>\n",
    "<img src=\"../images/convolution1.png\" width=\"800\"/>\n",
    "</div>"
   ]
  },
  {
   "cell_type": "markdown",
   "metadata": {},
   "source": [
    "## One of the first convolutional neural network.\n",
    "\n",
    "LeCun et al. (1989). Backpropagation applied to handwritten zip code recognition. Neural Computation.\n",
    "\n",
    "Neurons have receptive fields, similar to what is observed in the visual system.\n",
    "\n",
    "\n",
    "<div>\n",
    "<img src=\"../images/LeNet5.png\" width=\"1200\"/>\n",
    "</div>"
   ]
  },
  {
   "cell_type": "markdown",
   "metadata": {},
   "source": [
    "## Convolutional Neural Networks as feature detectors\n",
    "\n",
    "\n",
    "<div>\n",
    "<img src=\"../images/imageNet_features_01.png\" width=\"300\"/>\n",
    "</div>\n",
    "\n",
    "\n",
    "<div>\n",
    "<img src=\"../images/imageNet_features_02.png\" width=\"600\"/>\n",
    "</div>\n",
    "\n",
    "\n",
    "\n",
    "<div>\n",
    "<img src=\"../images/imageNet_features_03.png\" width=\"600\"/>\n",
    "</div>\n",
    "\n",
    "<div>\n",
    "<img src=\"../images/imageNet_features_04.png\" width=\"600\"/>\n",
    "</div>\n",
    "\n"
   ]
  },
  {
   "cell_type": "markdown",
   "metadata": {},
   "source": [
    "## ImageNet competition: 1.3 million images and 1000 classes\n",
    "\n",
    "<div>\n",
    "<img src=\"../images/imageNetResults.png\" width=\"800\"/>\n",
    "</div>\n",
    "\n"
   ]
  },
  {
   "cell_type": "markdown",
   "metadata": {},
   "source": [
    "## Deeplabcut"
   ]
  },
  {
   "cell_type": "markdown",
   "metadata": {},
   "source": [
    "* A method for 3D markerless pose estimation\n",
    "* Uses a deep neural network that was pretrained on image classification\n",
    "* Matches human accuracy, but is much faster\n",
    "* Based on open-source technologies (python, tensorflow, etc)\n",
    "* Training with a graphics card or with online services\n",
    "* Very popular (>5000 followers on Twitter)\n",
    "\n",
    "Previous alternative: video recordings with markers on the animal.\n",
    "\n",
    "Deeplabcut is very well documented.\n",
    "\n",
    "https://www.nature.com/articles/s41593-018-0209-y\n",
    "\n",
    "http://www.mackenziemathislab.org/deeplabcut\n",
    "\n",
    "https://www.nature.com/articles/s41596-019-0176-0\n",
    "\n"
   ]
  },
  {
   "cell_type": "markdown",
   "metadata": {},
   "source": [
    "<div>\n",
    "<img src=\"../images/dlcOverview.png\"/>\n",
    "</div>\n",
    "\n",
    "***"
   ]
  },
  {
   "cell_type": "markdown",
   "metadata": {},
   "source": [
    "<div>\n",
    "<img src=\"../images/MathisFigure1.png\"/>\n",
    "</div>\n"
   ]
  },
  {
   "cell_type": "markdown",
   "metadata": {},
   "source": [
    "***\n",
    "<div>\n",
    "<img src=\"../images/MathisFigure2.png\"/>\n",
    "</div>\n"
   ]
  },
  {
   "cell_type": "markdown",
   "metadata": {},
   "source": [
    "## Getting started\n",
    "\n",
    "I recommend downloading the deeplabcut repository. It contains jupyter notebooks that can be used as examples. They are located in `DeepLabCut/examples/JUPYTER`. To train your network on Google Colab, look in `DeepLabCut/examples/COLAB`\n",
    "\n",
    "For our purpose, I created 2 notebooks that I saved in dataNeuroMaster/deeplabcut/\n",
    "\n",
    "* Demo_youowndata.ipynb\n",
    "* Colab_yourowndata.ipynb"
   ]
  },
  {
   "cell_type": "code",
   "execution_count": null,
   "metadata": {},
   "outputs": [],
   "source": []
  }
 ],
 "metadata": {
  "kernelspec": {
   "display_name": "Python 3",
   "language": "python",
   "name": "python3"
  },
  "language_info": {
   "codemirror_mode": {
    "name": "ipython",
    "version": 3
   },
   "file_extension": ".py",
   "mimetype": "text/x-python",
   "name": "python",
   "nbconvert_exporter": "python",
   "pygments_lexer": "ipython3",
   "version": "3.7.9"
  }
 },
 "nbformat": 4,
 "nbformat_minor": 4
}
