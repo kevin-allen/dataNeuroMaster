{
 "cells": [
  {
   "cell_type": "markdown",
   "metadata": {},
   "source": [
    "# Lecture 4, Data science in Neuroscience\n",
    "\n",
    "\n",
    "## Plan for today\n",
    "\n",
    "1. Review of last week's exercises: Reconstructing our mean waveforms\n",
    "2. Overview of the next weeks\n",
    "3. Data analysis project 1\n",
    "4. Introduction to machine learning\n",
    "5. Quizz on machine learning\n",
    "6. Speed cell: a simple example of machine learning with a linear regression\n",
    "\n",
    "***"
   ]
  },
  {
   "cell_type": "markdown",
   "metadata": {},
   "source": [
    "## Review of last week's exercises\n",
    "\n",
    "see `lecture_03.ipynb`\n",
    "\n",
    "***\n"
   ]
  },
  {
   "cell_type": "markdown",
   "metadata": {},
   "source": [
    "## Data analysis project 1\n",
    "\n",
    "In the last step of the spike extraction procedure, we applied a K-means clustering algorithm to our spike waveform. Was this the best choice for this problem?\n",
    "\n",
    "In a jupyter notebook, compare k-means clustering with at least 3 other clustering techniques available in [Scikit-learn](https://scikit-learn.org/stable/modules/clustering.html#clustering). \n",
    "\n",
    "For each of 4 clustering technique (including k-means):\n",
    "1. Describe briefly how the algorhithm works\n",
    "2. List a few advantages and disadvantages of the technique\n",
    "3. Apply the techniques to your waveforms\n",
    "4. Display the results\n",
    "\n",
    "As a conclusion, and based on what you learned, choose which technique you think is the best for clustering our spike waveforms. Describe in a few points why you chose this algorighm.\n",
    "\n"
   ]
  },
  {
   "cell_type": "markdown",
   "metadata": {},
   "source": [
    "***\n",
    "## Overview of the next weeks\n",
    "\n",
    "1. Machine learning introduction (25.11.2021)\n",
    "2. Behavioral tracking with a deep neural network (Deeplabcut) (02.12.2021)\n",
    "3. Behavioral correlates of firing activity (place cells and grid cells) (09.12.2021)\n",
    "4. Presentation of data analysis project (16.12.2021, alternatively January 2022)\n"
   ]
  },
  {
   "cell_type": "markdown",
   "metadata": {},
   "source": [
    "***\n",
    "## Introduction to machine learning\n",
    "\n",
    "What is machine learning?\n",
    "\n",
    "\n",
    "**Machine learning is the field of study that gives computers the ability to learn without being explicitly programmed.**\n",
    "\n",
    "**The computer learns from input data to achieve a specific objective.**\n",
    "\n",
    "Examples: \n",
    "\n",
    "* A program learns to identify the nose, ears and tail of a mouse in images (complex model). \n",
    "* A program learns the relationship between the firing rate of a neuron and the running speed of an animal (simple model).\n"
   ]
  },
  {
   "cell_type": "markdown",
   "metadata": {},
   "source": [
    "## Why should you care about machine learning as a Neuroscientist?\n"
   ]
  },
  {
   "cell_type": "markdown",
   "metadata": {},
   "source": [
    "Machine learning is behind many modern tools used by neuroscients.\n",
    "\n",
    "* [Track behavior](https://www.nature.com/articles/s41593-018-0209-y)\n",
    "* [Image segmentation (e.g., cell counting)](https://www.nature.com/articles/s41592-018-0261-2)\n",
    "* [Spike extraction and clustering](https://www.biorxiv.org/content/10.1101/061481v1)\n",
    "\n",
    "They make new experiments possible. \n",
    "\n",
    "These are state-of-the-art software in their respective field."
   ]
  },
  {
   "cell_type": "markdown",
   "metadata": {},
   "source": [
    "## Objective during this course\n",
    "\n",
    "* Understand what machine learning is.\n",
    "* Get faminiar with the terminology\n",
    "* Experiment with a few examples"
   ]
  },
  {
   "cell_type": "markdown",
   "metadata": {},
   "source": [
    "## Definition of machine learning\n",
    "\n",
    "* Input: $X$ (single number or an array)\n",
    "* Output: $Y$ (single number or an array)\n",
    "* Unknown function or model: $f()$\n",
    "* Random error: $\\epsilon$\n",
    "\n",
    "$$Y = f(X) + \\epsilon $$\n",
    "\n",
    "Machine learning refers to a set of approaches for estimating the best parameters in $f()$"
   ]
  },
  {
   "cell_type": "markdown",
   "metadata": {},
   "source": [
    "$f()$ can be the the equation of a line or a deep neural network with millions of parameters."
   ]
  },
  {
   "cell_type": "markdown",
   "metadata": {},
   "source": [
    "***\n",
    "## What is learning?\n",
    "\n",
    "Learning can be defined as finding the best model parameters to solve a problem.\n",
    "\n",
    "**Simple example**: Find the relationship between IQ and education with a linear regression model. Two parameters ($a$ and $b$).\n",
    "\n",
    "$$y = a*x + b $$ \n",
    "\n",
    "**Complex example**: Find a mouse in an image. Millions of parameters.\n",
    "\n",
    "\n",
    "<div>\n",
    "<img src=\"../images/deep-neural-network.png\" width=\"500\"/>\n",
    "</div>\n",
    "\n"
   ]
  },
  {
   "cell_type": "markdown",
   "metadata": {},
   "source": [
    "## The training loop (when there is no closed formula)\n",
    "\n",
    "1. Start with random model parameters\n",
    "2. Feed data with label to your model\n",
    "3. Calculate the error of your model (loss).\n",
    "4. Adjust the model parameters by a small amount to reduce the error.\n",
    "5. Go back to 2."
   ]
  },
  {
   "cell_type": "markdown",
   "metadata": {},
   "source": [
    "***\n",
    "## Prediction versus inference\n",
    "\n",
    "Why do we want to estimate $f$?\n",
    "\n",
    "\n",
    "### Prediction\n",
    "\n",
    "* We focus on predicting $Y$.\n",
    "* $f$ is treated as a black box (a useful black box)\n",
    "\n",
    "### Inference\n",
    "\n",
    "* **Understand** how $Y$ is affected as $X$ changes.\n",
    "* Which predictors are associated with the response?\n",
    "* Is the relation between $Y$ and each predictor adequately summarized using a linear equation?\n"
   ]
  },
  {
   "cell_type": "markdown",
   "metadata": {},
   "source": [
    "***\n",
    "## Supervised versus unsupervised\n",
    "\n",
    "### Supervised\n",
    "* The training set contains labeled data.\n",
    "* For each observation of the predictors $X_{i}, i = 1,...,n$ there is a known response measurement $y_{i}$.\n",
    "* Example: linear regression\n",
    "\n",
    "### Unsupervised\n",
    "* Uncovering hidden patterns from unlabeled data.\n",
    "* For each observation $i = 1,...,n$, we observed a vector of measurements $X_{i}$, but no response $y_{i}$.\n",
    "* Examples: k-means clustering, PCA\n"
   ]
  },
  {
   "cell_type": "markdown",
   "metadata": {},
   "source": [
    "***\n",
    "## Regression versus classification\n",
    "\n",
    "* If $Y$ is a continuous variable, then it is a regression task.\n",
    "* If $Y$ is a categorical variable, then it is a classification task.\n"
   ]
  },
  {
   "cell_type": "markdown",
   "metadata": {},
   "source": [
    "***\n",
    "## Training and test sets\n",
    "\n",
    "A **training set** is our observed data points that is used to estimate $f$. Our training set has $n$ observations.\n",
    "\n",
    "A **test set** is used to test how accurate our model is. Not used for training!\n",
    "\n",
    "Keeping data aside to test how well you model work is essential when using complex models. \n",
    "\n",
    "Complex models can learn to perform great on your training set but might generalize very poorly to new data. This is called **overfitting**.\n"
   ]
  },
  {
   "cell_type": "markdown",
   "metadata": {},
   "source": [
    "***\n",
    "## Time for a quizz!\n",
    "\n",
    "[Link](https://docs.google.com/forms/d/e/1FAIpQLSfmL_igF1P0sZ_6aorGTE71pwNEa34oSWklG34y5vMPXvEYTQ/viewform?usp=sf_link)\n",
    "\n",
    "or\n",
    "\n",
    "https://tinyurl.com/y3jhxgr6\n",
    "\n",
    "You have 5 minutes to complete the questions.\n"
   ]
  },
  {
   "cell_type": "markdown",
   "metadata": {},
   "source": [
    "***\n",
    "# Using machine learning to characterize a speed cell.\n",
    "\n",
    "**Speed cell**: Neuron for which the firing rate is linearly correlated with the running speed of an animal.\n",
    "\n",
    "[Speed cells in the medial entorhinal cortex (2015) Nature](https://www.nature.com/articles/nature14622)\n",
    "\n",
    "\n",
    "<div>\n",
    "<img src=\"../images/speed_kropff.png\" width=\"1000\"/>\n",
    "</div>\n",
    "\n"
   ]
  },
  {
   "cell_type": "code",
   "execution_count": null,
   "metadata": {},
   "outputs": [],
   "source": []
  }
 ],
 "metadata": {
  "kernelspec": {
   "display_name": "Python [conda env:DLC-CPU]",
   "language": "python",
   "name": "conda-env-DLC-CPU-py"
  },
  "language_info": {
   "codemirror_mode": {
    "name": "ipython",
    "version": 3
   },
   "file_extension": ".py",
   "mimetype": "text/x-python",
   "name": "python",
   "nbconvert_exporter": "python",
   "pygments_lexer": "ipython3",
   "version": "3.7.9"
  }
 },
 "nbformat": 4,
 "nbformat_minor": 4
}
