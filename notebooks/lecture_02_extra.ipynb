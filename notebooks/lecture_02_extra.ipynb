{
 "cells": [
  {
   "cell_type": "markdown",
   "metadata": {},
   "source": [
    "# Review of exercises"
   ]
  },
  {
   "cell_type": "code",
   "execution_count": null,
   "metadata": {},
   "outputs": [],
   "source": [
    "import numpy as np\n",
    "import matplotlib.pyplot as plt\n",
    "\n",
    "fileName = \"../data/shortRaw.npy\" # binder users or people with a local git repository\n",
    "dat = np.load(fileName)"
   ]
  },
  {
   "cell_type": "code",
   "execution_count": null,
   "metadata": {},
   "outputs": [],
   "source": [
    "print(\"ndim:\",dat.ndim)\n",
    "print(\"shape:\",dat.shape)\n",
    "print(\"dtype:\",dat.dtype)"
   ]
  },
  {
   "cell_type": "code",
   "execution_count": null,
   "metadata": {},
   "outputs": [],
   "source": [
    "# plot the first channel\n",
    "plt.figure(figsize=(12,4))\n",
    "plt.plot(dat[0,:],c=\"black\")\n",
    "plt.title(\"First channel\")\n",
    "plt.show()\n",
    "\n",
    "# plot 2 channels\n",
    "plt.figure(figsize=(12,8))\n",
    "plt.plot(dat[3,:])\n",
    "plt.plot(dat[4,:]+3000) # I added 3000 to the values of channel 4 to be able to see it.\n",
    "plt.title(\"Channels 3 and 4\")\n",
    "plt.show()"
   ]
  },
  {
   "cell_type": "code",
   "execution_count": null,
   "metadata": {},
   "outputs": [],
   "source": [
    "print(\"The mean of dat is :\",dat.mean())\n",
    "print(\"Mean per channel:\")\n",
    "print(dat.mean(axis=1))"
   ]
  },
  {
   "cell_type": "code",
   "execution_count": null,
   "metadata": {},
   "outputs": [],
   "source": [
    "plt.figure(figsize=(12,4))\n",
    "plt.plot(dat.mean(axis=0))\n",
    "plt.title(\"Mean of all channels\")\n",
    "plt.show()"
   ]
  },
  {
   "cell_type": "code",
   "execution_count": null,
   "metadata": {},
   "outputs": [],
   "source": [
    "dat+100\n",
    "print(\"Standard deviation per channel:\")\n",
    "print(dat.std(axis=1))\n",
    "      \n",
    "print(\"Channel with the largest standard deviation\")\n",
    "print(np.argmax(dat.std(axis=1))) # note the use of np.argmax()"
   ]
  },
  {
   "cell_type": "code",
   "execution_count": null,
   "metadata": {},
   "outputs": [],
   "source": [
    "plt.hist(dat[4,:],bins=25)\n",
    "plt.title(\"Distribution of values on channel 4\")\n",
    "plt.show()"
   ]
  },
  {
   "cell_type": "markdown",
   "metadata": {},
   "source": [
    "# Filtering exercises"
   ]
  },
  {
   "cell_type": "markdown",
   "metadata": {},
   "source": [
    "Luckily, the sosfiltfilt() function can take 2D arrays as input, so we can filter 8 channels with one line."
   ]
  },
  {
   "cell_type": "code",
   "execution_count": null,
   "metadata": {},
   "outputs": [],
   "source": [
    "y = sosfiltfilt(myFilter, dat) # the sosfilt() function can take a 2D array and will filter every row separately\n",
    "y.shape # y now contains our 8 channels"
   ]
  },
  {
   "cell_type": "markdown",
   "metadata": {},
   "source": [
    "# Detection"
   ]
  },
  {
   "cell_type": "code",
   "execution_count": null,
   "metadata": {},
   "outputs": [],
   "source": [
    "chan=3 # select a channel to work with\n",
    "mean=y[chan,:].mean()\n",
    "std=y[chan,:].std()\n",
    "print(\"mean:\",mean)\n",
    "print(\"std:\",std)"
   ]
  },
  {
   "cell_type": "code",
   "execution_count": null,
   "metadata": {},
   "outputs": [],
   "source": []
  }
 ],
 "metadata": {
  "kernelspec": {
   "display_name": "Python 3",
   "language": "python",
   "name": "python3"
  },
  "language_info": {
   "codemirror_mode": {
    "name": "ipython",
    "version": 3
   },
   "file_extension": ".py",
   "mimetype": "text/x-python",
   "name": "python",
   "nbconvert_exporter": "python",
   "pygments_lexer": "ipython3",
   "version": "3.8.5"
  }
 },
 "nbformat": 4,
 "nbformat_minor": 4
}
